# Dashboard Generative AI
# (Notebook de ejemplo para Colab)
